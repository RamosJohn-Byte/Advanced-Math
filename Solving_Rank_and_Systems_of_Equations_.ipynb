{
  "nbformat": 4,
  "nbformat_minor": 0,
  "metadata": {
    "colab": {
      "provenance": []
    },
    "kernelspec": {
      "name": "python3",
      "display_name": "Python 3"
    },
    "language_info": {
      "name": "python"
    }
  },
  "cells": [
    {
      "cell_type": "code",
      "execution_count": 1,
      "metadata": {
        "id": "ekwUgw9B_K95"
      },
      "outputs": [],
      "source": [
        "import numpy as np"
      ]
    },
    {
      "cell_type": "code",
      "source": [
        "# Define the matrix\n",
        "A = np.array([[1, 2, 3],\n",
        "              [4, 5, 6],\n",
        "              [7, 8, 9]])\n",
        "\n",
        "# Compute the rank\n",
        "rank = np.linalg.matrix_rank(A)\n",
        "\n",
        "print(f\"Rank of matrix A: {rank}\")"
      ],
      "metadata": {
        "colab": {
          "base_uri": "https://localhost:8080/"
        },
        "id": "xLf7rsAXmSf_",
        "outputId": "825a0d98-0947-4d57-e345-f09d8fbf8ccf"
      },
      "execution_count": 2,
      "outputs": [
        {
          "output_type": "stream",
          "name": "stdout",
          "text": [
            "Rank of matrix A: 2\n"
          ]
        }
      ]
    },
    {
      "cell_type": "code",
      "source": [
        "# Coefficient matrix\n",
        "A = np.array([[2, 1, -1],\n",
        "              [-3, -1, 2],\n",
        "              [-2, 1, 2]])\n",
        "\n",
        "# Constant vector\n",
        "b = np.array([8, -11, -3])\n",
        "\n",
        "# Solve the system\n",
        "if np.linalg.det(A) != 0:  # Check if the matrix is invertible\n",
        "    x = np.linalg.inv(A).dot(b)\n",
        "    print(f\"Solution: {x}\")\n",
        "else:\n",
        "    print(\"Matrix A is not invertible. No unique solution.\")"
      ],
      "metadata": {
        "colab": {
          "base_uri": "https://localhost:8080/"
        },
        "id": "RkCEUXHDmX7m",
        "outputId": "6634046e-3b2a-4c9d-8d41-cd5cd9f7073c"
      },
      "execution_count": 3,
      "outputs": [
        {
          "output_type": "stream",
          "name": "stdout",
          "text": [
            "Solution: [ 2.  3. -1.]\n"
          ]
        }
      ]
    },
    {
      "cell_type": "code",
      "source": [],
      "metadata": {
        "id": "cbyO2bh-mf62"
      },
      "execution_count": null,
      "outputs": []
    },
    {
      "cell_type": "markdown",
      "source": [
        "**Student Practice Problems**"
      ],
      "metadata": {
        "id": "xiXwbGP-mqG7"
      }
    },
    {
      "cell_type": "markdown",
      "source": [
        "Problem 1: Rank of a Matrix"
      ],
      "metadata": {
        "id": "e6eXH6gamvGl"
      }
    },
    {
      "cell_type": "code",
      "source": [
        "# Define the matrix\n",
        "A = np.array([[1, 2, 0, 4],\n",
        "              [3, 6, 0, 8],\n",
        "              [5, 10, 0, 12],\n",
        "              [7, 14, 0, 16]])\n",
        "\n",
        "# Compute the rank\n",
        "rank = np.linalg.matrix_rank(A)\n",
        "\n",
        "print(f\"Rank of matrix A: {rank}\")"
      ],
      "metadata": {
        "colab": {
          "base_uri": "https://localhost:8080/"
        },
        "id": "qLUXDR8CmuQk",
        "outputId": "2e09770d-f637-4081-8b97-10d54d6e7ca6"
      },
      "execution_count": 6,
      "outputs": [
        {
          "output_type": "stream",
          "name": "stdout",
          "text": [
            "Rank of matrix A: 2\n"
          ]
        }
      ]
    },
    {
      "cell_type": "markdown",
      "source": [
        "Problem 2: Solve a 3x3 System of Equations"
      ],
      "metadata": {
        "id": "veuI5dManHcz"
      }
    },
    {
      "cell_type": "code",
      "source": [
        "# Coefficient matrix\n",
        "A = np.array([[1, 1, 1],\n",
        "              [2, 4, 3],\n",
        "              [0, 0, 1]])\n",
        "\n",
        "# Constant vector\n",
        "B = np.array([6, 18, 5])\n",
        "\n",
        "# Solve the system\n",
        "if np.linalg.det(A) != 0:  # Check if the matrix is invertible\n",
        "    x = np.linalg.inv(A).dot(b)\n",
        "    print(f\"Solution: {x}\")\n",
        "else:\n",
        "    print(\"Matrix A is not invertible. No unique solution.\")"
      ],
      "metadata": {
        "colab": {
          "base_uri": "https://localhost:8080/"
        },
        "id": "RzKONXRlm_vN",
        "outputId": "4f665526-f221-449e-b34a-4a0ba2d1a156"
      },
      "execution_count": 8,
      "outputs": [
        {
          "output_type": "stream",
          "name": "stdout",
          "text": [
            "Solution: [0.5 0.5 5. ]\n"
          ]
        }
      ]
    },
    {
      "cell_type": "markdown",
      "source": [
        "Problem 3: Solve a 4x4 System of Equations"
      ],
      "metadata": {
        "id": "N8HY4eTzniOf"
      }
    },
    {
      "cell_type": "code",
      "source": [
        "# Coefficient matrix\n",
        "A = np.array([[1, 1, 1, 1],\n",
        "              [2, 1, 0, 3],\n",
        "              [4, 3, 2, 1],\n",
        "              [3, 0, 5, 2]])\n",
        "\n",
        "# Constant vector\n",
        "B = np.array([10, 11, 20, 15])\n",
        "\n",
        "# Solve the system\n",
        "if np.linalg.det(A) != 0:  # Check if the matrix is invertible\n",
        "    x = np.linalg.inv(A).dot(B)\n",
        "    print(f\"Solution: {x}\")\n",
        "else:\n",
        "    print(\"Matrix A is not invertible. No unique solution.\")"
      ],
      "metadata": {
        "colab": {
          "base_uri": "https://localhost:8080/"
        },
        "id": "Tq_-wY5gnmpN",
        "outputId": "c00dd232-6fb6-43dc-d533-d3e8d3c33299"
      },
      "execution_count": 9,
      "outputs": [
        {
          "output_type": "stream",
          "name": "stdout",
          "text": [
            "Solution: [-1.625  6.     2.875  2.75 ]\n"
          ]
        }
      ]
    },
    {
      "cell_type": "code",
      "source": [],
      "metadata": {
        "id": "f_laoLFmn2h1"
      },
      "execution_count": null,
      "outputs": []
    }
  ]
}