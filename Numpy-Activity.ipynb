{
 "cells": [
  {
   "cell_type": "code",
   "execution_count": 7,
   "id": "92bcefd5-f7d9-4de6-9329-d052c294c4e1",
   "metadata": {},
   "outputs": [],
   "source": [
    "import numpy as np"
   ]
  },
  {
   "cell_type": "markdown",
   "id": "1860d31d-f0c1-437a-b798-2443a0992512",
   "metadata": {},
   "source": [
    "Exercise 1: Matrix Addition & Subtraction"
   ]
  },
  {
   "cell_type": "code",
   "execution_count": 13,
   "id": "0fd073a8-76c6-4778-98be-6b51a5784909",
   "metadata": {},
   "outputs": [
    {
     "name": "stdout",
     "output_type": "stream",
     "text": [
      "B + C:\n",
      "[[26 28]\n",
      " [30 32]]\n",
      "B - C:\n",
      "[[-4 -4]\n",
      " [-4 -4]]\n"
     ]
    }
   ],
   "source": [
    "B = np.array([[11, 12], [13, 14]])\n",
    "C = np.array([[15, 16], [17, 18]])\n",
    "\n",
    "#Addition\n",
    "add_result = B + C\n",
    "print(\"B + C:\")\n",
    "print(add_result)\n",
    "\n",
    "#Subtraction\n",
    "sub_result = B - C\n",
    "print(\"B - C:\")\n",
    "print(sub_result)"
   ]
  },
  {
   "cell_type": "markdown",
   "id": "bc831d2a-753c-4377-81ad-ef4e11621252",
   "metadata": {},
   "source": [
    "Exercise 2: Matrix Multiplication"
   ]
  },
  {
   "cell_type": "code",
   "execution_count": 15,
   "id": "e599ec52-e964-4028-8004-2af95f0a0149",
   "metadata": {},
   "outputs": [],
   "source": [
    "# Define matrices for multiplication\n",
    "D = np.array([[1, 2], [3, 4]])\n",
    "E = np.array([[5, 6], [7, 8]])"
   ]
  },
  {
   "cell_type": "code",
   "execution_count": 19,
   "id": "1c9b2d23-caae-4f35-a1d2-9a6611e8498d",
   "metadata": {},
   "outputs": [
    {
     "name": "stdout",
     "output_type": "stream",
     "text": [
      "D * E:\n",
      "[[ 5 12]\n",
      " [21 32]]\n"
     ]
    }
   ],
   "source": [
    "multiply_result = D * E\n",
    "print(\"D * E:\")\n",
    "print(multiply_result)"
   ]
  },
  {
   "cell_type": "markdown",
   "id": "eb18f82a-0f8c-42b1-8d65-121597462164",
   "metadata": {},
   "source": [
    "Exercise 3: Matrix Transpose"
   ]
  },
  {
   "cell_type": "code",
   "execution_count": 24,
   "id": "6b1e42aa-5fe7-4c49-b35e-88c48e5887ea",
   "metadata": {},
   "outputs": [
    {
     "name": "stdout",
     "output_type": "stream",
     "text": [
      "D:\n",
      "[[1 2]\n",
      " [3 4]]\n",
      "Transpose of D:\n",
      "[[1 3]\n",
      " [2 4]]\n"
     ]
    }
   ],
   "source": [
    "print(\"D:\")\n",
    "print(D)\n",
    "transpose_result = D.T\n",
    "print(\"Transpose of D:\")\n",
    "print(transpose_result)"
   ]
  },
  {
   "cell_type": "code",
   "execution_count": 38,
   "id": "6beba998-6138-4750-b641-02d175e8d33e",
   "metadata": {},
   "outputs": [
    {
     "name": "stdout",
     "output_type": "stream",
     "text": [
      "Determinant of F: 77.00000000000001\n"
     ]
    }
   ],
   "source": [
    "# Define a 3x3 square matrix\n",
    "F = np.array([[4, 2, 3], [3, 7, 1], [2, 1, 5]])\n",
    "\n",
    "# Calculating the determinant of the matrix\n",
    "determinant = np.linalg.det(F)\n",
    "print(\"Determinant of F:\", determinant)"
   ]
  },
  {
   "cell_type": "markdown",
   "id": "c28fae5e-e210-4e1f-aff5-9e30ffad560c",
   "metadata": {},
   "source": [
    "Exercise 5: Finding the Inverse"
   ]
  },
  {
   "cell_type": "code",
   "execution_count": 51,
   "id": "e4d60918-17bf-4424-abf4-76af242ae995",
   "metadata": {},
   "outputs": [
    {
     "name": "stdout",
     "output_type": "stream",
     "text": [
      "Inverse of G:\n",
      "[[-2.   1. ]\n",
      " [ 1.5 -0.5]]\n"
     ]
    }
   ],
   "source": [
    "# Define an invertible 2x2 matrix\n",
    "G = np.array([[1, 2], [3, 4]])\n",
    "\n",
    "# Inverse of G\n",
    "inverse_result = np.linalg.inv(G)\n",
    "print(\"Inverse of G:\")\n",
    "print(inverse_result)"
   ]
  },
  {
   "cell_type": "markdown",
   "id": "ad1bddab-1a73-4cdb-903f-73400e662984",
   "metadata": {},
   "source": [
    "Additional Challenge "
   ]
  },
  {
   "cell_type": "code",
   "execution_count": 58,
   "id": "b4c51df0-ee8d-4801-9a2a-47963d016263",
   "metadata": {},
   "outputs": [
    {
     "name": "stdout",
     "output_type": "stream",
     "text": [
      "Random 10x10 Matrix A:\n",
      "[[0.68850274 0.45908287 0.99244508 0.58435342 0.21723081 0.57259652\n",
      "  0.62463175 0.98396995 0.36855908 0.44051698]\n",
      " [0.36545763 0.81948714 0.48676899 0.87369619 0.28017775 0.05585679\n",
      "  0.90622621 0.54488708 0.68257638 0.73075812]\n",
      " [0.60390477 0.85976527 0.52957804 0.18270262 0.33905606 0.2785761\n",
      "  0.09468196 0.85493162 0.92702653 0.35126535]\n",
      " [0.73005862 0.67076478 0.97541007 0.18564959 0.01948371 0.38526493\n",
      "  0.35208009 0.30969931 0.61799652 0.94823849]\n",
      " [0.43293438 0.68478893 0.57477889 0.9708796  0.22293053 0.06770477\n",
      "  0.91673049 0.58831233 0.60555061 0.39476227]\n",
      " [0.89686553 0.20499641 0.08536066 0.60848301 0.1031871  0.90575587\n",
      "  0.63430933 0.94007499 0.87523516 0.33068515]\n",
      " [0.24332374 0.58499018 0.47313695 0.04960729 0.18308216 0.3995641\n",
      "  0.6456505  0.49151654 0.05497623 0.44207656]\n",
      " [0.55128531 0.26025281 0.04545502 0.41000776 0.55163808 0.75878768\n",
      "  0.00211485 0.2639209  0.30644851 0.44060355]\n",
      " [0.01713291 0.1374343  0.69983942 0.16906947 0.87746748 0.93555699\n",
      "  0.19934692 0.59533211 0.23782515 0.73663082]\n",
      " [0.38434964 0.31997537 0.62256365 0.29163199 0.48278885 0.18041367\n",
      "  0.75476545 0.40453886 0.04825086 0.2042816 ]]\n"
     ]
    }
   ],
   "source": [
    "# Generate a random 10x10 matrix\n",
    "random_matrix_A = np.random.rand(10, 10)\n",
    "print(\"Random 10x10 Matrix A:\")\n",
    "print(random_matrix_A)"
   ]
  },
  {
   "cell_type": "code",
   "execution_count": 60,
   "id": "6e56f1f3-44f3-43d5-a6dc-e274976f7572",
   "metadata": {},
   "outputs": [
    {
     "name": "stdout",
     "output_type": "stream",
     "text": [
      "\n",
      "Random 10x10 Matrix B:\n",
      "[[0.88680111 0.12076798 0.99230668 0.38371979 0.42376279 0.01806223\n",
      "  0.88830915 0.85347509 0.13486831 0.07329603]\n",
      " [0.41892411 0.65166291 0.87912259 0.44448752 0.59383342 0.08005842\n",
      "  0.07476217 0.93190133 0.37278843 0.80914058]\n",
      " [0.18458201 0.29989692 0.83607763 0.2580233  0.2417965  0.68345571\n",
      "  0.58743627 0.43871163 0.88972325 0.32369356]\n",
      " [0.21799161 0.95980398 0.68066367 0.68165551 0.15264162 0.81337051\n",
      "  0.85743983 0.50184193 0.89549273 0.16162074]\n",
      " [0.46307835 0.95562906 0.90320438 0.76219699 0.68198179 0.10892288\n",
      "  0.42876935 0.44424375 0.70167042 0.7631551 ]\n",
      " [0.16195387 0.5699198  0.32099224 0.51888399 0.89591993 0.88116941\n",
      "  0.94755339 0.82387981 0.63879112 0.6306165 ]\n",
      " [0.54187241 0.8130845  0.13878137 0.54164831 0.42717383 0.26663052\n",
      "  0.24853062 0.71261169 0.34652301 0.95447515]\n",
      " [0.54434058 0.90281105 0.0592145  0.75635338 0.41052777 0.67959811\n",
      "  0.02184017 0.55058009 0.08233365 0.31836243]\n",
      " [0.45903882 0.10159445 0.25643089 0.74448326 0.66236472 0.55991466\n",
      "  0.72702026 0.93972066 0.57777748 0.15955468]\n",
      " [0.46687637 0.32631885 0.19112829 0.29230252 0.20669421 0.95758181\n",
      "  0.90417426 0.53902024 0.95069522 0.08153093]]\n"
     ]
    }
   ],
   "source": [
    "# Generate a second random 10x10 matrix\n",
    "random_matrix_B = np.random.rand(10, 10)\n",
    "print(\"\\nRandom 10x10 Matrix B:\")\n",
    "print(random_matrix_B)"
   ]
  },
  {
   "cell_type": "markdown",
   "id": "ee1ac447-4f33-4142-813c-b91962b85cf1",
   "metadata": {},
   "source": [
    "2.2 Matrix Addition"
   ]
  },
  {
   "cell_type": "code",
   "execution_count": 63,
   "id": "bad41d25-494a-4054-b890-a741958a55c8",
   "metadata": {},
   "outputs": [
    {
     "name": "stdout",
     "output_type": "stream",
     "text": [
      "\n",
      "A + B (Matrix Addition):\n",
      "[[1.57530385 0.57985085 1.98475176 0.96807321 0.64099361 0.59065875\n",
      "  1.5129409  1.83744504 0.50342739 0.51381301]\n",
      " [0.78438174 1.47115005 1.36589159 1.31818371 0.87401117 0.13591521\n",
      "  0.98098838 1.47678841 1.05536481 1.5398987 ]\n",
      " [0.78848678 1.15966219 1.36565567 0.44072592 0.58085256 0.96203181\n",
      "  0.68211823 1.29364325 1.81674979 0.67495892]\n",
      " [0.94805024 1.63056876 1.65607374 0.8673051  0.17212533 1.19863544\n",
      "  1.20951992 0.81154124 1.51348924 1.10985923]\n",
      " [0.89601272 1.64041799 1.47798327 1.73307659 0.90491233 0.17662764\n",
      "  1.34549984 1.03255608 1.30722104 1.15791737]\n",
      " [1.0588194  0.77491622 0.4063529  1.127367   0.99910703 1.78692528\n",
      "  1.58186272 1.7639548  1.51402628 0.96130165]\n",
      " [0.78519615 1.39807468 0.61191832 0.5912556  0.61025599 0.66619461\n",
      "  0.89418112 1.20412823 0.40149924 1.39655172]\n",
      " [1.0956259  1.16306386 0.10466952 1.16636113 0.96216585 1.43838578\n",
      "  0.02395502 0.81450099 0.38878216 0.75896598]\n",
      " [0.47617173 0.23902875 0.9562703  0.91355273 1.5398322  1.49547165\n",
      "  0.92636718 1.53505277 0.81560263 0.8961855 ]\n",
      " [0.85122601 0.64629422 0.81369195 0.58393451 0.68948306 1.13799547\n",
      "  1.65893971 0.94355909 0.99894608 0.28581253]]\n"
     ]
    }
   ],
   "source": [
    "# Matrix Addition\n",
    "addition_result = random_matrix_A + random_matrix_B\n",
    "print(\"\\nA + B (Matrix Addition):\")\n",
    "print(addition_result)"
   ]
  },
  {
   "cell_type": "markdown",
   "id": "f584a4ca-7aeb-4f72-9c56-884a02fbccc4",
   "metadata": {},
   "source": [
    "2.3 Matrix Subtraction"
   ]
  },
  {
   "cell_type": "code",
   "execution_count": 66,
   "id": "ebfa7e73-757e-4074-af0f-6e6c4f74bc70",
   "metadata": {},
   "outputs": [
    {
     "name": "stdout",
     "output_type": "stream",
     "text": [
      "\n",
      "A - B (Matrix Subtraction):\n",
      "[[-1.98298367e-01  3.38314895e-01  1.38396103e-04  2.00633630e-01\n",
      "  -2.06531983e-01  5.54534294e-01 -2.63677401e-01  1.30494855e-01\n",
      "   2.33690774e-01  3.67220951e-01]\n",
      " [-5.34664749e-02  1.67824232e-01 -3.92353602e-01  4.29208665e-01\n",
      "  -3.13655671e-01 -2.42016240e-02  8.31464037e-01 -3.87014256e-01\n",
      "   3.09787946e-01 -7.83824569e-02]\n",
      " [ 4.19322768e-01  5.59868352e-01 -3.06499591e-01 -7.53206854e-02\n",
      "   9.72595581e-02 -4.04879614e-01 -4.92754311e-01  4.16219994e-01\n",
      "   3.73032800e-02  2.75717896e-02]\n",
      " [ 5.12067010e-01 -2.89039205e-01  2.94746397e-01 -4.96005917e-01\n",
      "  -1.33157908e-01 -4.28105581e-01 -5.05359747e-01 -1.92142616e-01\n",
      "  -2.77496209e-01  7.86617755e-01]\n",
      " [-3.01439711e-02 -2.70840129e-01 -3.28425481e-01  2.08682615e-01\n",
      "  -4.59051263e-01 -4.12181103e-02  4.87961145e-01  1.44068583e-01\n",
      "  -9.61198120e-02 -3.68392827e-01]\n",
      " [ 7.34911660e-01 -3.64923389e-01 -2.35631575e-01  8.95990244e-02\n",
      "  -7.92732830e-01  2.45864611e-02 -3.13244057e-01  1.16195175e-01\n",
      "   2.36444048e-01 -2.99931343e-01]\n",
      " [-2.98548664e-01 -2.28094321e-01  3.34355576e-01 -4.92041023e-01\n",
      "  -2.44091668e-01  1.32933580e-01  3.97119881e-01 -2.21095151e-01\n",
      "  -2.91546775e-01 -5.12398589e-01]\n",
      " [ 6.94473003e-03 -6.42558240e-01 -1.37594882e-02 -3.46345620e-01\n",
      "   1.41110313e-01  7.91895679e-02 -1.97253167e-02 -2.86659198e-01\n",
      "   2.24114857e-01  1.22241124e-01]\n",
      " [-4.41905912e-01  3.58398550e-02  4.43408532e-01 -5.75413782e-01\n",
      "   2.15102764e-01  3.75642330e-01 -5.27673336e-01 -3.44388545e-01\n",
      "  -3.39952333e-01  5.77076141e-01]\n",
      " [-8.25267260e-02 -6.34348478e-03  4.31435357e-01 -6.70526364e-04\n",
      "   2.76094642e-01 -7.77168139e-01 -1.49408816e-01 -1.34481377e-01\n",
      "  -9.02444357e-01  1.22750662e-01]]\n"
     ]
    }
   ],
   "source": [
    "# Matrix Subtraction\n",
    "subtraction_result = random_matrix_A - random_matrix_B\n",
    "print(\"\\nA - B (Matrix Subtraction):\")\n",
    "print(subtraction_result)"
   ]
  },
  {
   "cell_type": "markdown",
   "id": "3a7f68e5-b39f-4d02-8bf3-036d4e38f5eb",
   "metadata": {},
   "source": [
    "2.4 Matrix Multiplication"
   ]
  },
  {
   "cell_type": "code",
   "execution_count": 69,
   "id": "d1cc1ef7-43d7-4c0c-b251-4b259151a517",
   "metadata": {},
   "outputs": [
    {
     "name": "stdout",
     "output_type": "stream",
     "text": [
      "\n",
      "A * B (Matrix Multiplication):\n",
      "[[2.55572201 3.35214839 3.01796586 3.07104427 2.56064126 3.19443606\n",
      "  3.20866336 3.88300858 3.11768333 2.36866407]\n",
      " [2.52865474 3.39887713 2.82846775 3.09292873 2.34765236 2.88914564\n",
      "  2.98815752 3.87920115 3.2505318  2.44461122]\n",
      " [2.34164221 2.50779628 2.68650232 2.76879128 2.48127282 2.33436714\n",
      "  2.51159986 3.61945564 2.42536294 1.91441147]\n",
      " [2.30610609 2.17226317 2.80418427 2.3334766  2.21321095 2.78453183\n",
      "  3.2051887  3.60860594 3.04843576 1.81037902]\n",
      " [2.38200773 3.32124305 2.78889774 2.99339514 2.20579307 2.69042335\n",
      "  2.80349824 3.66087998 2.98543148 2.3327125 ]\n",
      " [2.63568559 3.02762681 2.37099971 3.22355485 2.802131   3.00995174\n",
      "  3.39988425 4.0616994  2.58648519 2.07884011]\n",
      " [1.55752904 2.121344   1.69599265 1.74778116 1.66068456 1.74726141\n",
      "  1.64834505 2.4164833  1.81622468 1.86158709]\n",
      " [1.56520327 2.01784408 2.01344253 1.99030865 1.92105741 1.89747706\n",
      "  2.47041145 2.48123745 2.06914761 1.40231601]\n",
      " [1.68182531 2.79960561 2.19555588 2.46836596 2.3598406  2.8433827\n",
      "  2.74578583 2.78555061 2.99674255 2.10374693]\n",
      " [1.65287897 2.33620924 2.05579248 1.92115582 1.60149742 1.60562028\n",
      "  1.77527639 2.32485247 1.95712724 1.89149335]]\n"
     ]
    }
   ],
   "source": [
    "# Matrix Multiplication\n",
    "multiplication_result = np.dot(random_matrix_A, random_matrix_B)\n",
    "print(\"\\nA * B (Matrix Multiplication):\")\n",
    "print(multiplication_result)"
   ]
  },
  {
   "cell_type": "markdown",
   "id": "de65b2fd-99b4-4819-bcd9-bfb4d096b69c",
   "metadata": {},
   "source": [
    "2.5 Transpose of a Matrix"
   ]
  },
  {
   "cell_type": "code",
   "execution_count": 72,
   "id": "64d39a60-fe5f-4c0f-b92a-d69aaac117f2",
   "metadata": {},
   "outputs": [
    {
     "name": "stdout",
     "output_type": "stream",
     "text": [
      "\n",
      "Transpose of Matrix A:\n",
      "[[0.68850274 0.36545763 0.60390477 0.73005862 0.43293438 0.89686553\n",
      "  0.24332374 0.55128531 0.01713291 0.38434964]\n",
      " [0.45908287 0.81948714 0.85976527 0.67076478 0.68478893 0.20499641\n",
      "  0.58499018 0.26025281 0.1374343  0.31997537]\n",
      " [0.99244508 0.48676899 0.52957804 0.97541007 0.57477889 0.08536066\n",
      "  0.47313695 0.04545502 0.69983942 0.62256365]\n",
      " [0.58435342 0.87369619 0.18270262 0.18564959 0.9708796  0.60848301\n",
      "  0.04960729 0.41000776 0.16906947 0.29163199]\n",
      " [0.21723081 0.28017775 0.33905606 0.01948371 0.22293053 0.1031871\n",
      "  0.18308216 0.55163808 0.87746748 0.48278885]\n",
      " [0.57259652 0.05585679 0.2785761  0.38526493 0.06770477 0.90575587\n",
      "  0.3995641  0.75878768 0.93555699 0.18041367]\n",
      " [0.62463175 0.90622621 0.09468196 0.35208009 0.91673049 0.63430933\n",
      "  0.6456505  0.00211485 0.19934692 0.75476545]\n",
      " [0.98396995 0.54488708 0.85493162 0.30969931 0.58831233 0.94007499\n",
      "  0.49151654 0.2639209  0.59533211 0.40453886]\n",
      " [0.36855908 0.68257638 0.92702653 0.61799652 0.60555061 0.87523516\n",
      "  0.05497623 0.30644851 0.23782515 0.04825086]\n",
      " [0.44051698 0.73075812 0.35126535 0.94823849 0.39476227 0.33068515\n",
      "  0.44207656 0.44060355 0.73663082 0.2042816 ]]\n",
      "\n",
      "Transpose of Matrix B:\n",
      "[[0.88680111 0.41892411 0.18458201 0.21799161 0.46307835 0.16195387\n",
      "  0.54187241 0.54434058 0.45903882 0.46687637]\n",
      " [0.12076798 0.65166291 0.29989692 0.95980398 0.95562906 0.5699198\n",
      "  0.8130845  0.90281105 0.10159445 0.32631885]\n",
      " [0.99230668 0.87912259 0.83607763 0.68066367 0.90320438 0.32099224\n",
      "  0.13878137 0.0592145  0.25643089 0.19112829]\n",
      " [0.38371979 0.44448752 0.2580233  0.68165551 0.76219699 0.51888399\n",
      "  0.54164831 0.75635338 0.74448326 0.29230252]\n",
      " [0.42376279 0.59383342 0.2417965  0.15264162 0.68198179 0.89591993\n",
      "  0.42717383 0.41052777 0.66236472 0.20669421]\n",
      " [0.01806223 0.08005842 0.68345571 0.81337051 0.10892288 0.88116941\n",
      "  0.26663052 0.67959811 0.55991466 0.95758181]\n",
      " [0.88830915 0.07476217 0.58743627 0.85743983 0.42876935 0.94755339\n",
      "  0.24853062 0.02184017 0.72702026 0.90417426]\n",
      " [0.85347509 0.93190133 0.43871163 0.50184193 0.44424375 0.82387981\n",
      "  0.71261169 0.55058009 0.93972066 0.53902024]\n",
      " [0.13486831 0.37278843 0.88972325 0.89549273 0.70167042 0.63879112\n",
      "  0.34652301 0.08233365 0.57777748 0.95069522]\n",
      " [0.07329603 0.80914058 0.32369356 0.16162074 0.7631551  0.6306165\n",
      "  0.95447515 0.31836243 0.15955468 0.08153093]]\n"
     ]
    }
   ],
   "source": [
    "# Transpose of random_matrix_A\n",
    "transpose_result_A = random_matrix_A.T\n",
    "print(\"\\nTranspose of Matrix A:\")\n",
    "print(transpose_result_A)\n",
    "\n",
    "# Transpose of random_matrix_B\n",
    "transpose_result_B = random_matrix_B.T\n",
    "print(\"\\nTranspose of Matrix B:\")\n",
    "print(transpose_result_B)"
   ]
  },
  {
   "cell_type": "markdown",
   "id": "a5bad10f-850a-4fc9-bc89-11afa15e5431",
   "metadata": {},
   "source": [
    "Learning Assessment Questions"
   ]
  },
  {
   "cell_type": "markdown",
   "id": "2f454cb9-b991-4bcd-a4db-cc9919b3ee54",
   "metadata": {},
   "source": [
    " Question 1: Explain what a matrix is and provide an example of a 3×23 \\times 23×2 matrix. Using NumPy, write code to create this matrix."
   ]
  },
  {
   "cell_type": "markdown",
   "id": "367490af-228a-461e-afe9-66b31128e3c1",
   "metadata": {},
   "source": [
    "A matrix is a table that has 2 dimensions called \"Rows\" or \"Columns\". This contains values such as numbers, expressions or symbols."
   ]
  },
  {
   "cell_type": "markdown",
   "id": "e6701c6d-dce0-4816-a05f-52a831abcbef",
   "metadata": {},
   "source": [
    "The following code creates a 3x2 and 2x3 matrix."
   ]
  },
  {
   "cell_type": "code",
   "execution_count": 83,
   "id": "758de56b-f4bf-4384-a0a1-b0c48ac4e5b6",
   "metadata": {},
   "outputs": [
    {
     "name": "stdout",
     "output_type": "stream",
     "text": [
      "Matrix 1 is 3x2\n",
      "[[1 2]\n",
      " [3 4]\n",
      " [5 6]]\n",
      "Matrix 2 is 2x3\n",
      "[[1 2 3]\n",
      " [4 5 6]]\n"
     ]
    }
   ],
   "source": [
    "Matrix1 = np.array([[1,2], [3,4], [5,6]])\n",
    "Matrix2 = np.array([[1,2,3], [4,5,6]])\n",
    "\n",
    "print(\"Matrix 1 is 3x2\")\n",
    "print(Matrix1)\n",
    "print(\"Matrix 2 is 2x3\")\n",
    "print(Matrix2)"
   ]
  },
  {
   "cell_type": "markdown",
   "id": "f14dc8ed-a69f-41d2-a885-b5fa8b2aa2cf",
   "metadata": {},
   "source": [
    "Question 2: Given two matrices A and B, describe the conditions necessary for performing matrix addition and matrix multiplication. \n",
    "Write code to add and multiply two 5×5 matrices using NumPy.\n"
   ]
  },
  {
   "cell_type": "markdown",
   "id": "d52ef736-5014-4bfe-b117-ea6dd67b0d6d",
   "metadata": {},
   "source": [
    "Suppose we have 2 arrays of 5x5 in size. Before we begin any mathematical procedures, we first have to view their matrix dimensions as a cartesian plane. \"Rows\" and \"Columns\" will act as \"X\" and \"Y\" respectively in relation to a cartesian plane concept. With this in mind, we can now begin."
   ]
  },
  {
   "cell_type": "markdown",
   "id": "661d07be-dd0d-477e-947f-c702583688bd",
   "metadata": {},
   "source": [
    "When it comes to addition, the sizes of the matrices have to be the same. When this condition is satisfied, each element from each matrix can be added to each other, given they both have the same dimension locations. For example: Element from Matrix A with positions Row1 and Column1 can only be added to another element from the latter matrix with the same positions as Row1 and Column1."
   ]
  },
  {
   "cell_type": "markdown",
   "id": "73f5e3af-06d5-4384-9bdb-306c2f0bf00d",
   "metadata": {},
   "source": [
    "In multiplication however, the conditions to be satisfied differ. The initial matrix's column size has to be the same as the opposiing matrix's row size. For example, matrices 3x2 and 2x4 satisfy the conditions to be multiplied. However, if they were switched so that they are presented as being 2x4 and 3x2, they do not qualify to be multiplied. Continuing with this first condition being satisfied, the next step would be determining the size of the matrix that results from the 2 matrices mentioned above being multiplied. In this case, the size of the resulting matrix would be 3x4, the row size steming from the initial matrix's row and the column size steming from the latter matrix's column size. After this has been determined, the multiplication procedure goes as follows. The 1st row of elements from the initial matrix would be each multiplied with each of the elements from the 1st column of the latter matrix. Each product resulting from each multiplication would then be added all together, and the result would be the element in the resulting matrix with the position Row1 and Column1 due to how it was conceived. The following procedure would then be applied to the 1st row of elements from the initial matrix to the 2nd column of the latter matrix. The result of that entire operation would be the 2nd element in the resulting matrix with the positions Row1 and Column2. This then would be applied until all rows and columns have succesfully been used for this operation."
   ]
  },
  {
   "cell_type": "markdown",
   "id": "4798b920-f663-4b3b-9d9a-94911857452e",
   "metadata": {},
   "source": [
    "The following code that adds and multiplies two 5x5 matrices:"
   ]
  },
  {
   "cell_type": "code",
   "execution_count": 97,
   "id": "b3c1e27f-d5b9-455b-8fde-16307b51e2b0",
   "metadata": {},
   "outputs": [
    {
     "name": "stdout",
     "output_type": "stream",
     "text": [
      "Added\n",
      "[[ 2  4  6  8 10]\n",
      " [ 2  4  6  8 10]\n",
      " [ 2  4  6  8 10]\n",
      " [ 2  4  6  8 10]\n",
      " [ 2  4  6  8 10]]\n",
      "Multiplied\n",
      "[[15 30 45 60 75]\n",
      " [15 30 45 60 75]\n",
      " [15 30 45 60 75]\n",
      " [15 30 45 60 75]\n",
      " [15 30 45 60 75]]\n"
     ]
    }
   ],
   "source": [
    "Matrix1 = np.array([[1,2,3,4,5], [1,2,3,4,5], [1,2,3,4,5], [1,2,3,4,5], [1,2,3,4,5]])\n",
    "Matrix2 = np.array([[1,2,3,4,5], [1,2,3,4,5], [1,2,3,4,5], [1,2,3,4,5], [1,2,3,4,5]])\n",
    "\n",
    "result = Matrix1 + Matrix2\n",
    "print(\"Added\")\n",
    "print(result)\n",
    "\n",
    "result = np.dot( Matrix1, Matrix2)\n",
    "print(\"Multiplied\")\n",
    "print(result)"
   ]
  },
  {
   "cell_type": "markdown",
   "id": "5d984d38-a51f-4031-a2ad-9b7f69abf696",
   "metadata": {},
   "source": [
    "Question 3: Explain the concept of matrix transposition. What effect does it have on a 3×2 matrix? Write code to create a 3×2 matrix and find its transpose."
   ]
  },
  {
   "cell_type": "markdown",
   "id": "d038693f-5750-4190-bcef-792f3add23a1",
   "metadata": {},
   "source": [
    "Matrix transposition is a process where we switch the matrix’s rows with its columns. For a 3×2\n",
    "3×2 matrix, the transposition changes it from having 3 rows and 2 columns to having 2 rows and 3 columns. Essentially, the first row becomes the first column, the second row becomes the second column, and so on."
   ]
  },
  {
   "cell_type": "code",
   "execution_count": 105,
   "id": "04ccab3c-d08c-4852-8451-ce9d81f263ca",
   "metadata": {},
   "outputs": [
    {
     "name": "stdout",
     "output_type": "stream",
     "text": [
      "Original Matrix:\n",
      " [[1 2]\n",
      " [3 4]\n",
      " [5 6]]\n",
      "Transpose:\n",
      " [[1 3 5]\n",
      " [2 4 6]]\n"
     ]
    }
   ],
   "source": [
    "# Creating a 3x2 matrix\n",
    "matrix_3x2 = np.array([[1, 2], [3, 4], [5, 6]])\n",
    "\n",
    "# Finding the transpose\n",
    "transpose_matrix = matrix_3x2.T\n",
    "print(\"Original Matrix:\\n\", matrix_3x2)\n",
    "print(\"Transpose:\\n\", transpose_matrix)"
   ]
  },
  {
   "cell_type": "markdown",
   "id": "a1a18c46-7be3-4ea8-8bdf-6305eae163e0",
   "metadata": {},
   "source": [
    "Question 4: Create a random 5×5 matrix using NumPy. Compute the sum of all elements in the matrix, then find its transpose. Print both the sum and the transpose of the matrix."
   ]
  },
  {
   "cell_type": "code",
   "execution_count": 108,
   "id": "124d39bf-4dca-4e47-9d4b-505b3219a42e",
   "metadata": {},
   "outputs": [
    {
     "name": "stdout",
     "output_type": "stream",
     "text": [
      "Random 5x5 Matrix:\n",
      " [[0.83564419 0.07006352 0.49725715 0.80113883 0.43185541]\n",
      " [0.54717847 0.09313115 0.30925797 0.8687592  0.17176599]\n",
      " [0.29014661 0.64623773 0.59504671 0.86977431 0.54177737]\n",
      " [0.33474176 0.10252237 0.45418518 0.94433766 0.37212758]\n",
      " [0.86683209 0.76765746 0.30587923 0.92536667 0.4140841 ]]\n",
      "Sum of all elements: 13.056768706221163\n",
      "Transpose of the matrix:\n",
      " [[0.83564419 0.54717847 0.29014661 0.33474176 0.86683209]\n",
      " [0.07006352 0.09313115 0.64623773 0.10252237 0.76765746]\n",
      " [0.49725715 0.30925797 0.59504671 0.45418518 0.30587923]\n",
      " [0.80113883 0.8687592  0.86977431 0.94433766 0.92536667]\n",
      " [0.43185541 0.17176599 0.54177737 0.37212758 0.4140841 ]]\n"
     ]
    }
   ],
   "source": [
    "# Create a random 5x5 matrix\n",
    "random_matrix_5x5 = np.random.rand(5, 5)\n",
    "\n",
    "# Calculate the sum of all elements in the matrix\n",
    "sum_of_elements = np.sum(random_matrix_5x5)\n",
    "\n",
    "# Find the transpose of the matrix\n",
    "transpose_matrix = random_matrix_5x5.T\n",
    "\n",
    "# Print results\n",
    "print(\"Random 5x5 Matrix:\\n\", random_matrix_5x5)\n",
    "print(\"Sum of all elements:\", sum_of_elements)\n",
    "print(\"Transpose of the matrix:\\n\", transpose_matrix)"
   ]
  },
  {
   "cell_type": "markdown",
   "id": "82790565-a42f-4072-ad90-4f19a049daad",
   "metadata": {},
   "source": [
    "Question 5: Suppose you have two random 10×10 matrices D and E. Write code to (a) add the matrices, (b) subtract E from D, and (c) multiply D and E using matrix multiplication. Print each result and describe one possible application of each operation in computer science."
   ]
  },
  {
   "cell_type": "code",
   "execution_count": 113,
   "id": "32347918-62d6-4608-bc9c-3e1f5146fcbf",
   "metadata": {},
   "outputs": [
    {
     "name": "stdout",
     "output_type": "stream",
     "text": [
      "Addition\n",
      "Matrix addition is used in computer graphics, especially in transformations like translation. For instance, adding translation vectors to the positions of objects in a 3D scene.\n",
      "[[1.00424525 1.21211421 1.75513023 0.75177351 0.99567624 0.56208259\n",
      "  1.53034177 1.18866964 0.73648106 0.34573018]\n",
      " [1.63299213 1.21516394 1.08722731 1.44933503 0.20505748 0.91631419\n",
      "  1.12365411 0.87792108 1.6987728  1.07540303]\n",
      " [0.91192014 0.57874929 1.55760902 0.94766908 0.95388001 0.97311745\n",
      "  1.39495499 1.10578517 0.3128979  0.47760642]\n",
      " [0.76028859 1.78917265 1.15849131 0.54270291 0.91079525 0.80064225\n",
      "  0.74226333 0.69671438 0.55260184 0.71177227]\n",
      " [0.38181857 1.35220334 1.00932664 0.79365564 0.66045603 1.08082195\n",
      "  1.02409816 0.37370223 0.71205009 0.74576465]\n",
      " [1.79022011 0.71040161 0.84174442 1.01512069 1.08838607 1.38656501\n",
      "  1.38870647 0.79846105 0.7573778  1.07229115]\n",
      " [0.87261416 0.72252697 1.09422104 0.66260162 0.54478731 0.90785593\n",
      "  0.85868129 1.4525042  1.0609255  1.04837   ]\n",
      " [1.5353161  0.93465485 0.75985845 1.21478742 1.63008949 1.09659636\n",
      "  1.0919186  1.80375481 1.00868351 0.96662032]\n",
      " [0.45132576 0.04402068 0.68782854 0.86938489 1.27551147 0.90559107\n",
      "  1.28849491 1.04954091 0.61465184 1.35506897]\n",
      " [1.42024904 1.27330631 1.40758881 1.57853494 0.80283881 1.79001513\n",
      "  1.00562683 1.53198422 1.54968797 1.04101791]]\n",
      "Substract E from D\n",
      "Matrix subtraction can be used in data analysis for finding the difference between two datasets. For example, comparing observed and expected values in machine learning to evaluate prediction errors.\n",
      "[[-0.90819659  0.05812516 -0.21080301 -0.52124824  0.51027513 -0.25285709\n",
      "  -0.00282566  0.46264517  0.61723406 -0.07508721]\n",
      " [-0.15480447  0.22681679  0.76874781 -0.44161619  0.05836478 -0.0699519\n",
      "   0.10584782 -0.13046426  0.12599291  0.11030873]\n",
      " [-0.39352294  0.31895131 -0.39843899  0.2414102   0.16379694 -0.46244322\n",
      "   0.12184804 -0.23307939 -0.08793497  0.13404529]\n",
      " [ 0.52892053  0.09706496 -0.02240517  0.00583303  0.87397118 -0.2693751\n",
      "   0.49874048 -0.31853539  0.54532834 -0.30916034]\n",
      " [ 0.29372582 -0.22909739  0.86266681 -0.31391785 -0.29860908  0.53411617\n",
      "  -0.6376698  -0.1399972   0.05662646  0.03916118]\n",
      " [-0.19174529 -0.55216076  0.610325   -0.26811635  0.7566867  -0.33214858\n",
      "   0.39874139 -0.76857561 -0.43102011 -0.63869803]\n",
      " [-0.15199769 -0.43509237  0.90445108  0.47925927 -0.38330324  0.90604884\n",
      "  -0.77679226 -0.26378733  0.74944749 -0.30189685]\n",
      " [-0.45460428 -0.91572039 -0.20199639 -0.65526424 -0.31888499  0.57241173\n",
      "   0.52258966  0.1835403  -0.00597768  0.64068072]\n",
      " [ 0.1395604   0.02790468  0.57079428  0.80971293 -0.28880779  0.26140585\n",
      "   0.22193272 -0.66061709 -0.02860724  0.59409615]\n",
      " [ 0.51117346  0.48254502 -0.040308    0.2836973  -0.26813197  0.06465557\n",
      "  -0.9004176   0.28022587 -0.12381459  0.1443384 ]]\n",
      "Multiply D and E\n",
      "Matrix multiplication is fundamental in machine learning and neural networks for calculating the weighted sums during forward propagation. It’s also used in graph theory for operations like finding paths or connections between nodes.\n",
      "[[2.69717368 2.49725159 1.6518236  2.40069274 2.51300125 1.8392114\n",
      "  2.91726119 3.21536943 1.86487432 1.87475923]\n",
      " [3.53888713 2.6442165  2.82569041 2.77638256 2.42203599 2.89585356\n",
      "  3.56511288 3.85573632 2.16834715 2.41749555]\n",
      " [2.35304415 2.51720397 1.8244751  2.10580804 1.67496154 1.84835214\n",
      "  2.55499501 2.6456964  1.45317067 1.8531072 ]\n",
      " [2.84758219 2.63519578 1.92515596 2.62122877 1.93643371 2.15501514\n",
      "  3.28787148 2.94740727 1.8827927  2.11970631]\n",
      " [2.72535648 1.82792559 1.96634087 2.15165492 1.43232006 2.45124734\n",
      "  2.48998331 2.66797608 1.73067051 1.85166402]\n",
      " [2.51187494 2.59094224 2.11597413 2.0304573  1.69630606 2.03518893\n",
      "  3.21678137 2.70995533 1.25298961 2.0637862 ]\n",
      " [3.01676127 2.25660516 2.41530124 2.32614672 2.19847348 2.81126106\n",
      "  2.61210177 3.41765361 1.81358442 2.04894222]\n",
      " [3.44108919 3.34289062 2.28088874 2.96333197 2.8653447  2.58701281\n",
      "  3.56469535 3.78129624 2.27082693 2.5125321 ]\n",
      " [2.49155466 2.74344282 2.39889793 2.20800629 1.96277418 2.66206668\n",
      "  3.2043227  3.22288457 1.80946558 2.37966084]\n",
      " [4.50191809 3.77327232 3.34591146 3.9361891  2.65038386 3.66373877\n",
      "  3.66276358 4.27851805 2.72011969 2.8275277 ]]\n"
     ]
    }
   ],
   "source": [
    "# Create a random 5x5 matrix D\n",
    "D = np.random.rand(10, 10)\n",
    "E = np.random.rand(10, 10)\n",
    "\n",
    "print(\"Addition\")\n",
    "print(\"Matrix addition is used in computer graphics, especially in transformations like translation. For instance, adding translation vectors to the positions of objects in a 3D scene.\")\n",
    "print(D+E)\n",
    "print(\"Substract E from D\")\n",
    "print(\"Matrix subtraction can be used in data analysis for finding the difference between two datasets. For example, comparing observed and expected values in machine learning to evaluate prediction errors.\")\n",
    "print(D-E)\n",
    "print(\"Multiply D and E\")\n",
    "print(\"Matrix multiplication is fundamental in machine learning and neural networks for calculating the weighted sums during forward propagation. It’s also used in graph theory for operations like finding paths or connections between nodes.\")\n",
    "print(np.dot(D, E))"
   ]
  },
  {
   "cell_type": "code",
   "execution_count": null,
   "id": "a79a9bad-6de7-424c-b35d-25d4e4ec42a4",
   "metadata": {},
   "outputs": [],
   "source": []
  }
 ],
 "metadata": {
  "kernelspec": {
   "display_name": "Python 3 (ipykernel)",
   "language": "python",
   "name": "python3"
  },
  "language_info": {
   "codemirror_mode": {
    "name": "ipython",
    "version": 3
   },
   "file_extension": ".py",
   "mimetype": "text/x-python",
   "name": "python",
   "nbconvert_exporter": "python",
   "pygments_lexer": "ipython3",
   "version": "3.12.7"
  }
 },
 "nbformat": 4,
 "nbformat_minor": 5
}
