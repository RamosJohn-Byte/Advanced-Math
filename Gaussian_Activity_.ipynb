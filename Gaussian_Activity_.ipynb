{
  "nbformat": 4,
  "nbformat_minor": 0,
  "metadata": {
    "colab": {
      "provenance": []
    },
    "kernelspec": {
      "name": "python3",
      "display_name": "Python 3"
    },
    "language_info": {
      "name": "python"
    }
  },
  "cells": [
    {
      "cell_type": "code",
      "execution_count": 4,
      "metadata": {
        "id": "OXLDE7SX53Pq"
      },
      "outputs": [],
      "source": [
        "import numpy as np"
      ]
    },
    {
      "cell_type": "markdown",
      "source": [
        "![image_2024-12-14_005305728.png](data:image/png;base64,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)"
      ],
      "metadata": {
        "id": "jSz9QyA67-XR"
      }
    },
    {
      "cell_type": "code",
      "source": [
        "def naive_gauss_elimination_with_partial_pivoting(A, b):\n",
        "    # Convert inputs to numpy arrays for convenience\n",
        "    A = np.array(A, dtype=float)\n",
        "    b = np.array(b, dtype=float)\n",
        "\n",
        "    n = len(b)\n",
        "\n",
        "    # Forward elimination\n",
        "    for i in range(n):\n",
        "        # Partial pivoting: Find the row with the largest pivot and swap\n",
        "        max_row = i + np.argmax(abs(A[i:, i]))\n",
        "        if A[max_row, i] == 0:\n",
        "            raise ValueError(\"Matrix is singular or nearly singular.\")\n",
        "\n",
        "        # Swap rows in A and b\n",
        "        if max_row != i:\n",
        "            A[[i, max_row]] = A[[max_row, i]]\n",
        "            b[[i, max_row]] = b[[max_row, i]]\n",
        "\n",
        "        # Eliminate entries below the pivot\n",
        "        for j in range(i + 1, n):\n",
        "            factor = A[j, i] / A[i, i]\n",
        "            A[j, i:] -= factor * A[i, i:]\n",
        "            b[j] -= factor * b[i]\n",
        "\n",
        "    # Back substitution\n",
        "    x = np.zeros(n)\n",
        "    for i in range(n - 1, -1, -1):\n",
        "        x[i] = (b[i] - np.dot(A[i, i + 1:], x[i + 1:])) / A[i, i]\n",
        "\n",
        "    return x"
      ],
      "metadata": {
        "id": "GjSYHqh87z2N"
      },
      "execution_count": 5,
      "outputs": []
    },
    {
      "cell_type": "code",
      "source": [
        "A = [\n",
        "    [4, 1, -1],\n",
        "    [5, 1, 2],\n",
        "    [6, 1, 1]\n",
        "]\n",
        "b = [-2, 4, 6]\n",
        "\n",
        "solution = naive_gauss_elimination_with_partial_pivoting(A, b)\n",
        "print(\"Solution:\", solution)"
      ],
      "metadata": {
        "colab": {
          "base_uri": "https://localhost:8080/"
        },
        "id": "IH4Gbyy_54Yc",
        "outputId": "d2fe5d13-e276-41e3-91ba-4d6494f010f1"
      },
      "execution_count": 7,
      "outputs": [
        {
          "output_type": "stream",
          "name": "stdout",
          "text": [
            "Solution: [  3. -13.   1.]\n"
          ]
        }
      ]
    },
    {
      "cell_type": "markdown",
      "source": [
        "![image_2024-12-14_005356723.png](data:image/png;base64,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)"
      ],
      "metadata": {
        "id": "_alz-Kky8MUw"
      }
    },
    {
      "cell_type": "code",
      "source": [
        "def naive_gauss_elimination_with_partial_pivoting_four_siginificant(A, b):\n",
        "    # Helper function to chop to four significant digits\n",
        "    def chop(value):\n",
        "        if value == 0:\n",
        "            return 0.0\n",
        "        return float(f\"{value:.4g}\")\n",
        "\n",
        "    # Convert inputs to numpy arrays for convenience\n",
        "    A = np.array(A, dtype=float)\n",
        "    b = np.array(b, dtype=float)\n",
        "\n",
        "    n = len(b)\n",
        "\n",
        "    # Forward elimination\n",
        "    for i in range(n):\n",
        "        # Partial pivoting: Find the row with the largest pivot and swap\n",
        "        max_row = i + np.argmax(abs(A[i:, i]))\n",
        "        if A[max_row, i] == 0:\n",
        "            raise ValueError(\"Matrix is singular or nearly singular.\")\n",
        "\n",
        "        # Swap rows in A and b\n",
        "        if max_row != i:\n",
        "            A[[i, max_row]] = A[[max_row, i]]\n",
        "            b[[i, max_row]] = b[[max_row, i]]\n",
        "\n",
        "        # Eliminate entries below the pivot\n",
        "        for j in range(i + 1, n):\n",
        "            factor = chop(A[j, i] / A[i, i])\n",
        "            A[j, i:] = np.array([chop(v - factor * p) for v, p in zip(A[j, i:], A[i, i:])])\n",
        "            b[j] = chop(b[j] - factor * b[i])\n",
        "\n",
        "    # Back substitution\n",
        "    x = np.zeros(n)\n",
        "    for i in range(n - 1, -1, -1):\n",
        "        x[i] = chop((b[i] - chop(np.dot(A[i, i + 1:], x[i + 1:]))) / A[i, i])\n",
        "\n",
        "    return x\n"
      ],
      "metadata": {
        "id": "1d60S5d_8PlK"
      },
      "execution_count": 11,
      "outputs": []
    },
    {
      "cell_type": "code",
      "source": [
        "A = [\n",
        "    [4, 1, -1],\n",
        "    [5, 1, 2],\n",
        "    [6, 1, 1]\n",
        "]\n",
        "b = [-2, 4, 6]\n",
        "\n",
        "solution = naive_gauss_elimination_with_partial_pivoting_four_siginificant(A, b)\n",
        "print(\"Solution:\", solution)"
      ],
      "metadata": {
        "colab": {
          "base_uri": "https://localhost:8080/"
        },
        "id": "qx1OuY4m8tVj",
        "outputId": "f56b76cc-2b1b-4f0d-af14-cd9f762673f8"
      },
      "execution_count": 12,
      "outputs": [
        {
          "output_type": "stream",
          "name": "stdout",
          "text": [
            "Solution: [  3. -13.   1.]\n"
          ]
        }
      ]
    },
    {
      "cell_type": "markdown",
      "source": [
        "![image_2024-12-14_005740482.png](data:image/png;base64,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)"
      ],
      "metadata": {
        "id": "FtvAx2ft9FTZ"
      }
    },
    {
      "cell_type": "code",
      "source": [
        "def determinant_via_forward_elimination(A):\n",
        "    # Convert input to numpy array for convenience\n",
        "    A = np.array(A, dtype=float)\n",
        "    n = len(A)\n",
        "    det = 1.0\n",
        "\n",
        "    # Forward elimination\n",
        "    for i in range(n):\n",
        "        # Partial pivoting: Find the row with the largest pivot and swap\n",
        "        max_row = i + np.argmax(abs(A[i:, i]))\n",
        "        if A[max_row, i] == 0:\n",
        "            return 0.0  # Determinant is zero for singular matrix\n",
        "\n",
        "        # Swap rows if needed\n",
        "        if max_row != i:\n",
        "            A[[i, max_row]] = A[[max_row, i]]\n",
        "            det *= -1  # Row swap changes the sign of the determinant\n",
        "\n",
        "        # Multiply by pivot element\n",
        "        det *= A[i, i]\n",
        "\n",
        "        # Eliminate entries below the pivot\n",
        "        for j in range(i + 1, n):\n",
        "            factor = A[j, i] / A[i, i]\n",
        "            A[j, i:] -= factor * A[i, i:]\n",
        "\n",
        "    return det"
      ],
      "metadata": {
        "id": "X1PnZvSK9GOC"
      },
      "execution_count": 22,
      "outputs": []
    },
    {
      "cell_type": "code",
      "source": [
        "A = [\n",
        "    [10, -7, 0],\n",
        "    [-3, 2.099, 6],\n",
        "    [5, -1, 5]\n",
        "]\n",
        "\n",
        "det = determinant_via_forward_elimination(A)\n",
        "print(\"Determinant:\", det)"
      ],
      "metadata": {
        "colab": {
          "base_uri": "https://localhost:8080/"
        },
        "id": "oJrS5pD7-KNa",
        "outputId": "a4c0d16c-9d48-4800-a3c1-722acd9d587a"
      },
      "execution_count": 23,
      "outputs": [
        {
          "output_type": "stream",
          "name": "stdout",
          "text": [
            "Determinant: -150.04999999999998\n"
          ]
        }
      ]
    },
    {
      "cell_type": "markdown",
      "source": [
        "![image_2024-12-14_024615010.png](data:image/png;base64,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)"
      ],
      "metadata": {
        "id": "4dbN8lAIV6hD"
      }
    },
    {
      "cell_type": "code",
      "source": [
        "def gaussian_elimination_with_determinant(matrix):\n",
        "    # Convert matrix to float for precision in operations\n",
        "    matrix = matrix.astype(float)\n",
        "    n = len(matrix)\n",
        "    determinant = 1  # Initialize determinant\n",
        "\n",
        "    # Gaussian Elimination Process\n",
        "    for i in range(n):\n",
        "        # Pivoting: Find the maximum element in the current column\n",
        "        max_row = i + np.argmax(abs(matrix[i:, i]))\n",
        "        if i != max_row:\n",
        "            # Swap rows\n",
        "            matrix[[i, max_row]] = matrix[[max_row, i]]\n",
        "            determinant *= -1  # Row swaps invert the determinant\n",
        "\n",
        "        # Eliminate rows below the pivot\n",
        "        for j in range(i + 1, n):\n",
        "            if matrix[i, i] == 0:\n",
        "                return 0  # Determinant is 0 if a pivot is zero\n",
        "\n",
        "            scaling_factor = matrix[j, i] / matrix[i, i]\n",
        "            matrix[j, i:] -= scaling_factor * matrix[i, i:]\n",
        "\n",
        "        # Track determinant by multiplying diagonal elements\n",
        "        determinant *= matrix[i, i]\n",
        "\n",
        "    return determinant, matrix\n",
        "\n",
        "# Example matrix (from the problem statement)\n",
        "A = np.array([\n",
        "    [25, 5, 1],\n",
        "    [64, -4.8, 1],\n",
        "    [144, 0, 0.7]\n",
        "])\n",
        "\n",
        "# Compute determinant and reduced matrix\n",
        "determinant, reduced_matrix = gaussian_elimination_with_determinant(A)\n",
        "\n",
        "print(\"Reduced Matrix after Gaussian Elimination:\")\n",
        "print(reduced_matrix)\n",
        "print(f\"Determinant of A: {determinant:.4f}\")\n"
      ],
      "metadata": {
        "colab": {
          "base_uri": "https://localhost:8080/"
        },
        "id": "GCOepPRx-QYq",
        "outputId": "81c74cdc-697f-4c78-e6c3-0e967c5961e9"
      },
      "execution_count": 25,
      "outputs": [
        {
          "output_type": "stream",
          "name": "stdout",
          "text": [
            "Reduced Matrix after Gaussian Elimination:\n",
            "[[144.           0.           0.7       ]\n",
            " [  0.           5.           0.87847222]\n",
            " [  0.           0.           1.53222222]]\n",
            "Determinant of A: 1103.2000\n"
          ]
        }
      ]
    },
    {
      "cell_type": "markdown",
      "source": [
        "![image.png](data:image/png;base64,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)"
      ],
      "metadata": {
        "id": "nI3B58avV_j4"
      }
    },
    {
      "cell_type": "code",
      "source": [
        "def gaussian_elimination_with_partial_pivoting(A, b):\n",
        "    n = len(b)\n",
        "    # Augment the matrix A with b\n",
        "    Ab = np.hstack([A, b.reshape(-1, 1)])\n",
        "\n",
        "    # Forward elimination\n",
        "    for i in range(n):\n",
        "        # Partial pivoting: Find the maximum element in the current column\n",
        "        max_row = np.argmax(np.abs(Ab[i:, i])) + i\n",
        "\n",
        "        # Swap rows if necessary\n",
        "        if max_row != i:\n",
        "            Ab[[i, max_row]] = Ab[[max_row, i]]\n",
        "\n",
        "        # Make the pivot element 1 (normalization)\n",
        "        Ab[i] = Ab[i] / Ab[i, i]\n",
        "\n",
        "        # Eliminate entries below the pivot\n",
        "        for j in range(i + 1, n):\n",
        "            Ab[j] = Ab[j] - Ab[j, i] * Ab[i]\n",
        "\n",
        "    # Back substitution\n",
        "    x = np.zeros(n)\n",
        "    for i in range(n - 1, -1, -1):\n",
        "        x[i] = Ab[i, -1] - np.dot(Ab[i, i + 1:n], x[i + 1:n])\n",
        "\n",
        "    return x"
      ],
      "metadata": {
        "id": "7zx0H0LkVu2u"
      },
      "execution_count": 29,
      "outputs": []
    },
    {
      "cell_type": "code",
      "source": [
        "A = np.array([[4, 1, -1],[5, 1, 2],[6, 1, 1]], dtype=float)\n",
        "\n",
        "B = np.array(\n",
        "    [-2, 4, 6]\n",
        ", dtype=float)\n",
        "\n",
        "d = gaussian_elimination_with_partial_pivoting(A, B)\n",
        "print(\"Solution:\", d)"
      ],
      "metadata": {
        "colab": {
          "base_uri": "https://localhost:8080/"
        },
        "id": "4HpAp40hWOGe",
        "outputId": "778cea20-9891-4494-ad6d-a039c3859308"
      },
      "execution_count": 42,
      "outputs": [
        {
          "output_type": "stream",
          "name": "stdout",
          "text": [
            "Solution: [  3. -13.   1.]\n"
          ]
        }
      ]
    },
    {
      "cell_type": "markdown",
      "source": [
        "![image.png](data:image/png;base64,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)"
      ],
      "metadata": {
        "id": "pXZM6rAhYlh3"
      }
    },
    {
      "cell_type": "code",
      "source": [
        "def gaussian_elimination_with_partial_pivoting(A, b):\n",
        "    def chop(value, sig_digits=4):\n",
        "        \"\"\"Chop a value to four significant digits.\"\"\"\n",
        "        if value == 0:\n",
        "            return 0\n",
        "        return float(f\"{value:.{sig_digits}g}\")\n",
        "\n",
        "    n = len(b)\n",
        "    # Augment the matrix A with b\n",
        "    Ab = np.hstack([A, b.reshape(-1, 1)])\n",
        "\n",
        "    # Forward elimination\n",
        "    for i in range(n):\n",
        "        # Partial pivoting: Find the maximum element in the current column\n",
        "        max_row = np.argmax(np.abs(Ab[i:, i])) + i\n",
        "\n",
        "        # Swap rows if necessary\n",
        "        if max_row != i:\n",
        "            Ab[[i, max_row]] = Ab[[max_row, i]]\n",
        "\n",
        "        # Make the pivot element 1 (normalization)\n",
        "        Ab[i] = np.array([chop(val) for val in (Ab[i] / Ab[i, i])])\n",
        "\n",
        "        # Eliminate entries below the pivot\n",
        "        for j in range(i + 1, n):\n",
        "            factor = chop(Ab[j, i])\n",
        "            Ab[j] = np.array([chop(val) for val in (Ab[j] - factor * Ab[i])])\n",
        "\n",
        "    # Back substitution\n",
        "    x = np.zeros(n)\n",
        "    for i in range(n - 1, -1, -1):\n",
        "        x[i] = chop(Ab[i, -1] - np.dot(Ab[i, i + 1:n], x[i + 1:n]))\n",
        "\n",
        "    return x"
      ],
      "metadata": {
        "id": "rXPSoZ7KYmeN"
      },
      "execution_count": 43,
      "outputs": []
    },
    {
      "cell_type": "code",
      "source": [
        "A = np.array([[4, 1, -1],\n",
        "              [5, 1, 2],\n",
        "              [6, 1, 1]], dtype=float)\n",
        "\n",
        "B = np.array([-2, 4, 6], dtype=float)\n",
        "\n",
        "solution = gaussian_elimination_with_partial_pivoting(A, B)\n",
        "print(\"Solution:\", solution)"
      ],
      "metadata": {
        "colab": {
          "base_uri": "https://localhost:8080/"
        },
        "id": "IGZj9hEnYzPl",
        "outputId": "297fce5b-84c1-4792-f47f-3b3a1830505c"
      },
      "execution_count": 46,
      "outputs": [
        {
          "output_type": "stream",
          "name": "stdout",
          "text": [
            "Solution: [  3.002  -13.01     0.9995]\n"
          ]
        }
      ]
    },
    {
      "cell_type": "code",
      "source": [],
      "metadata": {
        "id": "z7XzOL_aY4AU"
      },
      "execution_count": null,
      "outputs": []
    }
  ]
}