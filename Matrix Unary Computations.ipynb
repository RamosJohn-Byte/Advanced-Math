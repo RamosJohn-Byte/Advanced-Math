{
 "cells": [
  {
   "cell_type": "markdown",
   "id": "c5faa274-af1b-4c80-b40d-eb488e5f1a39",
   "metadata": {},
   "source": [
    "Q1: What are some examples of unary operatons in matrices?\n",
    "\n",
    "Unary operations are operations that only involve and affect a single matrix. These are: Transpose (Flipping the matrix values over it's own diagonal, Trace (Sum of all diagonal values of the matrix), and Determinant (A value that represents certain properties of the matrix)."
   ]
  },
  {
   "cell_type": "code",
   "execution_count": 39,
   "id": "e9b57766-3553-4ae1-b4c3-d4c39c3495eb",
   "metadata": {},
   "outputs": [
    {
     "name": "stdout",
     "output_type": "stream",
     "text": [
      "Matrix A:\n",
      " [[1 2 3]\n",
      " [4 5 6]\n",
      " [7 8 9]]\n",
      "\n",
      "Transpose of Matrix A:\n",
      " [[1 4 7]\n",
      " [2 5 8]\n",
      " [3 6 9]]\n",
      "\n",
      "Is Matrix A symmetric?  False\n"
     ]
    }
   ],
   "source": [
    "import numpy as np\n",
    "\n",
    "# Create a 3x3 matrix\n",
    "matrix_A = np.array([[1, 2, 3],\n",
    "                     [4, 5, 6],\n",
    "                     [7, 8, 9]])\n",
    "\n",
    "# Find the transpose\n",
    "transpose_A = matrix_A.T\n",
    "\n",
    "print(\"Matrix A:\\n\", matrix_A)\n",
    "print(\"\\nTranspose of Matrix A:\\n\", transpose_A)\n",
    "\n",
    "# Check if the matrix is symmetric\n",
    "is_symmetric = (matrix_A == matrix_A.T).all()\n",
    "print(\"\\nIs Matrix A symmetric? \", is_symmetric)"
   ]
  },
  {
   "cell_type": "markdown",
   "id": "21693167-190c-4169-9ecb-4d4440d08a2a",
   "metadata": {},
   "source": [
    "Q2: Check if matrix_A is a symmetric matrix. Modify the code below to verify this."
   ]
  },
  {
   "cell_type": "code",
   "execution_count": 45,
   "id": "5c526fd5-f35b-4af0-a193-a6c61a75dce2",
   "metadata": {},
   "outputs": [
    {
     "name": "stdout",
     "output_type": "stream",
     "text": [
      "Matrix A:\n",
      " [[1 2 3]\n",
      " [2 5 6]\n",
      " [3 6 9]]\n",
      "\n",
      "Transpose of Matrix A:\n",
      " [[1 2 3]\n",
      " [2 5 6]\n",
      " [3 6 9]]\n",
      "\n",
      "Is Matrix A symmetric?  True\n"
     ]
    }
   ],
   "source": [
    "matrix_A = np.array([[1, 2, 3],\n",
    "                     [2, 5, 6],\n",
    "                     [3, 6, 9]])\n",
    "\n",
    "# Find the transpose\n",
    "transpose_A = matrix_A.T\n",
    "\n",
    "print(\"Matrix A:\\n\", matrix_A)\n",
    "print(\"\\nTranspose of Matrix A:\\n\", transpose_A)\n",
    "\n",
    "# Check if the matrix is symmetric\n",
    "is_symmetric = (matrix_A == matrix_A.T).all()\n",
    "print(\"\\nIs Matrix A symmetric? \", is_symmetric)"
   ]
  },
  {
   "cell_type": "markdown",
   "id": "3ac8625d-90ee-44b0-b6d4-3a377a9ccb55",
   "metadata": {},
   "source": [
    "Practice Problem 1:\n",
    "Create a 4  4×4 random matrix and check if it is symmetric.\n"
   ]
  },
  {
   "cell_type": "code",
   "execution_count": 59,
   "id": "ef8279f2-05e8-42ce-86da-263fc051f010",
   "metadata": {},
   "outputs": [
    {
     "name": "stdout",
     "output_type": "stream",
     "text": [
      "Random Matrix:\n",
      " [[3 9 9 2]\n",
      " [8 8 4 8]\n",
      " [8 5 7 9]\n",
      " [1 1 4 7]]\n",
      "\n",
      "Is the random matrix symmetric?  False\n"
     ]
    }
   ],
   "source": [
    "# Your solution here\n",
    "random_matrix = np.random.randint(1, 10, (4, 4))\n",
    "transpose_random = random_matrix.T\n",
    "\n",
    "# Check symmetry\n",
    "is_symmetric_random = (random_matrix == transpose_random).all()\n",
    "print(\"Random Matrix:\\n\", random_matrix)\n",
    "print(\"\\nIs the random matrix symmetric? \", is_symmetric_random)"
   ]
  },
  {
   "cell_type": "markdown",
   "id": "23dddb7e-cb56-443a-9a47-7a8a573220b0",
   "metadata": {},
   "source": [
    "Q3: What is the trace of the following matrix?"
   ]
  },
  {
   "cell_type": "code",
   "execution_count": 62,
   "id": "bd3ad361-8794-41e8-b406-9216afd54f2f",
   "metadata": {},
   "outputs": [
    {
     "name": "stdout",
     "output_type": "stream",
     "text": [
      "\n",
      "Trace of Matrix B: 31\n"
     ]
    }
   ],
   "source": [
    "matrix_B = np.array([[10, 20, 30],\n",
    "                     [5, 15, 25],\n",
    "                     [2, 4, 6]])\n",
    "\n",
    "trace_B = np.trace(matrix_B)\n",
    "print(\"\\nTrace of Matrix B:\", trace_B)"
   ]
  },
  {
   "cell_type": "markdown",
   "id": "d17cd3df-a839-47a8-a173-12d915cd2635",
   "metadata": {},
   "source": [
    "Practice Problem 2:\n",
    "Find the trace of a 5×5 identity matrix.\n"
   ]
  },
  {
   "cell_type": "code",
   "execution_count": 74,
   "id": "b5685388-4f62-457a-ad2d-d6ead47c0e30",
   "metadata": {},
   "outputs": [
    {
     "name": "stdout",
     "output_type": "stream",
     "text": [
      "[[1. 0. 0. 0. 0.]\n",
      " [0. 1. 0. 0. 0.]\n",
      " [0. 0. 1. 0. 0.]\n",
      " [0. 0. 0. 1. 0.]\n",
      " [0. 0. 0. 0. 1.]]\n",
      "\n",
      "Trace of Identity Matrix: 5.0\n"
     ]
    }
   ],
   "source": [
    "identity_matrix = np.eye(5)\n",
    "\n",
    "trace_identity = np.trace(identity_matrix)\n",
    "print(identity_matrix)\n",
    "print(\"\\nTrace of Identity Matrix:\", trace_identity)"
   ]
  },
  {
   "cell_type": "markdown",
   "id": "0f81db99-0726-4b53-853a-dc6222ca1ffa",
   "metadata": {},
   "source": [
    "Practice Problem 3:\n",
    "Compute the determinant of the following 3×3 matrix using NumPy:\n"
   ]
  },
  {
   "cell_type": "code",
   "execution_count": 85,
   "id": "488b0de9-3e0c-4323-adfb-cf841a085f67",
   "metadata": {},
   "outputs": [
    {
     "name": "stdout",
     "output_type": "stream",
     "text": [
      "22.000000000000004\n"
     ]
    }
   ],
   "source": [
    "matrix_D = np.array([[1, 2, 3],\n",
    "                     [0, 4, 5],\n",
    "                     [1, 0, 6]])\n",
    "\n",
    "det_D = np.linalg.det(matrix_D)\n",
    "print(det_D)"
   ]
  },
  {
   "cell_type": "markdown",
   "id": "91acd757-4b07-48f9-8253-55bad22c62f6",
   "metadata": {},
   "source": [
    "Practice Problem 4: Application in Computer Science\n",
    "\n",
    "Write code to generate a random 3×33 \\times 33×3 matrix representing pixel intensities and find its transpose and determinant."
   ]
  },
  {
   "cell_type": "code",
   "execution_count": 100,
   "id": "ab0e50a5-1095-4ccd-bb78-ffb014d66ac4",
   "metadata": {},
   "outputs": [
    {
     "name": "stdout",
     "output_type": "stream",
     "text": [
      "\n",
      "random_matrix1:\n",
      "[[9 6 7]\n",
      " [2 3 2]\n",
      " [4 8 2]]\n",
      "\n",
      "random_matrix2:\n",
      "[[1 9 6]\n",
      " [1 7 8]\n",
      " [7 8 3]]\n",
      "\n",
      "random_product:\n",
      "[[ 64 179 123]\n",
      " [ 19  55  42]\n",
      " [ 26 108  94]]\n",
      "\n",
      "transpose_product:\n",
      "[[ 64  19  26]\n",
      " [179  55 108]\n",
      " [123  42  94]]\n",
      "\n",
      "determinant_product:\n",
      "-7144.0000000000055\n"
     ]
    }
   ],
   "source": [
    "# Your solution here\n",
    "random_matrix1 = np.random.randint(1, 10, (3, 3))\n",
    "random_matrix2 = np.random.randint(1, 10, (3, 3))\n",
    "print(\"\\nrandom_matrix1:\")\n",
    "print(random_matrix1)\n",
    "print(\"\\nrandom_matrix2:\")\n",
    "print(random_matrix2)\n",
    "\n",
    "random_product = np.dot(random_matrix1, random_matrix2)\n",
    "print(\"\\nrandom_product:\")\n",
    "print(random_product)\n",
    "transpose_product = random_product.T\n",
    "print(\"\\ntranspose_product:\")\n",
    "print(transpose_product)\n",
    "determinant_product = np.linalg.det(transpose_product) \n",
    "print(\"\\ndeterminant_product:\")\n",
    "print(determinant_product)"
   ]
  },
  {
   "cell_type": "markdown",
   "id": "d8fc8bcd-c5d1-4fd7-af73-d02ec60dbf8e",
   "metadata": {},
   "source": [
    "Practice Problem 5: Symmetric Matrices in Machine Learning\n",
    "\n",
    "Symmetric matrices often appear in machine learning algorithms (e.g., covariance matrices). Create a symmetric 3×3 matrix and verify its properties.\n"
   ]
  },
  {
   "cell_type": "code",
   "execution_count": 103,
   "id": "795c5f27-8203-4a2b-a242-fe297c6e8aea",
   "metadata": {},
   "outputs": [
    {
     "name": "stdout",
     "output_type": "stream",
     "text": [
      "Matrix A:\n",
      "[[1 2 3]\n",
      " [2 5 6]\n",
      " [3 6 9]]\n",
      "\n",
      "Transpose of A:\n",
      "[[1 2 3]\n",
      " [2 5 6]\n",
      " [3 6 9]]\n",
      "\n",
      "Is the matrix symmetric?  True\n"
     ]
    }
   ],
   "source": [
    "A = np.array([[1, 2, 3],\n",
    "              [2, 5, 6],\n",
    "              [3, 6, 9]])\n",
    "\n",
    "print(\"Matrix A:\")\n",
    "print(A)\n",
    "\n",
    "# Verify if the matrix is symmetric\n",
    "is_symmetric = np.array_equal(A, A.T)  # Check if A is equal to its transpose\n",
    "\n",
    "print(\"\\nTranspose of A:\")\n",
    "print(A.T)\n",
    "\n",
    "print(\"\\nIs the matrix symmetric? \", is_symmetric)"
   ]
  },
  {
   "cell_type": "code",
   "execution_count": null,
   "id": "96ba5efb-9352-40c7-8666-18266eddf86b",
   "metadata": {},
   "outputs": [],
   "source": []
  }
 ],
 "metadata": {
  "kernelspec": {
   "display_name": "Python 3 (ipykernel)",
   "language": "python",
   "name": "python3"
  },
  "language_info": {
   "codemirror_mode": {
    "name": "ipython",
    "version": 3
   },
   "file_extension": ".py",
   "mimetype": "text/x-python",
   "name": "python",
   "nbconvert_exporter": "python",
   "pygments_lexer": "ipython3",
   "version": "3.12.7"
  }
 },
 "nbformat": 4,
 "nbformat_minor": 5
}
