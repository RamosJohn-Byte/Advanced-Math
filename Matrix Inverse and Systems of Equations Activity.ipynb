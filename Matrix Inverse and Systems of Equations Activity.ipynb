{
 "cells": [
  {
   "cell_type": "code",
   "execution_count": 3,
   "id": "32a12458-037b-4b8f-beaa-89d0ec43fa9d",
   "metadata": {},
   "outputs": [],
   "source": [
    "import numpy as np"
   ]
  },
  {
   "cell_type": "markdown",
   "id": "2bb7e5b3-80de-43c2-ab55-16beed630acd",
   "metadata": {},
   "source": [
    "Problem 1:\n",
    "\n",
    "1. I check if the determinant of Matrix A is not 0\n",
    "2. If that's true, I turn the Matrix A into an inverse."
   ]
  },
  {
   "cell_type": "code",
   "execution_count": 7,
   "id": "89f05f02-c318-4a8b-aa1d-e46c13c2c0f3",
   "metadata": {},
   "outputs": [
    {
     "name": "stdout",
     "output_type": "stream",
     "text": [
      "Inverse of A:\n",
      "[[ 0.71428571 -0.57142857]\n",
      " [-0.28571429  0.42857143]]\n"
     ]
    }
   ],
   "source": [
    "A = np.array([[3,4],\n",
    "              [2,5]])\n",
    "\n",
    "det_A = np.linalg.det(A)\n",
    "\n",
    "if det_A != 0:\n",
    "    inv_A = np.linalg.inv(A)\n",
    "    print(\"Inverse of A:\")\n",
    "    print(inv_A)\n",
    "else:\n",
    "    print(\"A is not invertible\")"
   ]
  },
  {
   "cell_type": "markdown",
   "id": "20b964f0-8ba4-48c6-98b8-c5ec722677c7",
   "metadata": {},
   "source": [
    "Problem 2:\n",
    "\n",
    "1. I check if the determinant of Matrix A is not 0\n",
    "2. If that's true, I use a more efficient method of computing X like (np.linalg.solve(A, B))"
   ]
  },
  {
   "cell_type": "code",
   "execution_count": 29,
   "id": "381e6d1d-366a-4da9-a1c6-20587eb49004",
   "metadata": {},
   "outputs": [
    {
     "name": "stdout",
     "output_type": "stream",
     "text": [
      "Solution for [x,y]:\n",
      "[1.57142857 1.28571429]\n"
     ]
    }
   ],
   "source": [
    "A = np.array([[2,3],\n",
    "              [4,-1]])\n",
    "\n",
    "B = np.array([7,\n",
    "              5])\n",
    "\n",
    "if np.linalg.det(A) != 0:\n",
    "    x = np.linalg.solve(A, B)\n",
    "    print(\"Solution for [x,y]:\")\n",
    "    print(x)\n",
    "else:\n",
    "    print(\"A is not invertible, no unique solution\")"
   ]
  },
  {
   "cell_type": "markdown",
   "id": "3cfb9381-ab91-4109-b6d5-5cbef4605b8f",
   "metadata": {},
   "source": [
    "Problem 3:\n",
    "\n",
    "1. I check if the determinant of Matrix A is not 0\n",
    "2. If that's true, I turn the Matrix A into an inverse."
   ]
  },
  {
   "cell_type": "code",
   "execution_count": 19,
   "id": "c81e01c3-88ad-4f0c-aebc-41a17bf498ff",
   "metadata": {},
   "outputs": [
    {
     "name": "stdout",
     "output_type": "stream",
     "text": [
      "Inverse of A:\n",
      "[[-24.  18.   5.]\n",
      " [ 20. -15.  -4.]\n",
      " [ -5.   4.   1.]]\n"
     ]
    }
   ],
   "source": [
    "A = np.array([[1,2,3],\n",
    "              [0,1,4],\n",
    "              [5,6,0]])\n",
    "\n",
    "det_A = np.linalg.det(A)\n",
    "\n",
    "if det_A != 0:\n",
    "    inv_A = np.linalg.inv(A)\n",
    "    print(\"Inverse of A:\")\n",
    "    print(inv_A)\n",
    "else:\n",
    "    print(\"A is not invertible\")"
   ]
  },
  {
   "cell_type": "markdown",
   "id": "a2350b43-1e63-4dca-97a1-4253b10cb633",
   "metadata": {},
   "source": [
    "Problem 4:\n",
    "\n",
    "1. I check if the determinant of Matrix A is not 0\n",
    "2. If that's true, I turn the Matrix A into an inverse.\n",
    "3. I then directly multiply inversed Matrix A with Matrix B (not using a more efficient method) to solve for X"
   ]
  },
  {
   "cell_type": "code",
   "execution_count": 24,
   "id": "c5666b9c-bd01-49b6-b150-7a564906c75b",
   "metadata": {},
   "outputs": [
    {
     "name": "stdout",
     "output_type": "stream",
     "text": [
      "Solution for [x,y]:\n",
      "[10.84210526 -5.21052632  0.36842105]\n"
     ]
    }
   ],
   "source": [
    "A = np.array([[1,1,1],\n",
    "              [2,5,1],\n",
    "              [2,3,8]])\n",
    "\n",
    "B = np.array([6,\n",
    "              -4,\n",
    "              9])\n",
    "\n",
    "inv_A = np.linalg.inv(A)\n",
    "x = inv_A.dot(B)\n",
    "\n",
    "print(\"Solution for [x,y]:\")\n",
    "print(x)"
   ]
  },
  {
   "cell_type": "markdown",
   "id": "4020102f-e2fc-4611-a84b-7ab3bf3e682d",
   "metadata": {},
   "source": [
    "Problem 5:\n",
    "\n",
    "1. I use a more efficient method (np.linalg.solve(A, B)) by directly computing them to solve for vector X"
   ]
  },
  {
   "cell_type": "code",
   "execution_count": 27,
   "id": "1f2b2386-093f-45d1-a586-17200fff5ed0",
   "metadata": {},
   "outputs": [
    {
     "name": "stdout",
     "output_type": "stream",
     "text": [
      "Solution for [x,y]:\n",
      "[  2.6   5.4 -14.4]\n"
     ]
    }
   ],
   "source": [
    "A = np.array([[4,-1,0],\n",
    "              [3,5,2],\n",
    "              [-2,4,1]])\n",
    "\n",
    "B = np.array([5,\n",
    "              6,\n",
    "              2])\n",
    "\n",
    "x = np.linalg.solve(A, B)\n",
    "\n",
    "print(\"Solution for [x,y]:\")\n",
    "print(x)"
   ]
  },
  {
   "cell_type": "markdown",
   "id": "ce910749-0465-4d67-9348-a32c2d71b54f",
   "metadata": {},
   "source": [
    "Bonus Challenge"
   ]
  },
  {
   "cell_type": "code",
   "execution_count": 34,
   "id": "d98b0d16-4a6f-48b9-be9d-229831a9004a",
   "metadata": {},
   "outputs": [
    {
     "name": "stdout",
     "output_type": "stream",
     "text": [
      "Inverse:\n",
      "[[-0.92222222  0.73333333  0.09305556]\n",
      " [-0.4         0.3         0.0125    ]\n",
      " [ 0.12777778 -0.11666667 -0.05694444]]\n"
     ]
    }
   ],
   "source": [
    "def generate_random_square_matrices(size):\n",
    "    # Generate two random square matrices of the given size\n",
    "    matrix1 = np.random.randint(-10, 10, size=(size, size))  # Random integers between -10 and 10\n",
    "    matrix2 = np.random.randint(-10, 10, size=(size, size))  # Random integers between -10 and 10\n",
    "    \n",
    "    return matrix1, matrix2\n",
    "\n",
    "matrix1, matrix2 = generate_random_square_matrices(3)\n",
    "\n",
    "product = np.dot(matrix1, matrix2)\n",
    "\n",
    "if np.linalg.det(product) !=0:\n",
    "    inverse = np.linalg.inv(product)\n",
    "    print(\"Inverse:\")\n",
    "    print(inverse)\n",
    "else:\n",
    "    print(\"Not invertible\")"
   ]
  },
  {
   "cell_type": "code",
   "execution_count": null,
   "id": "c076000c-e370-497c-872a-c7a69f165ba2",
   "metadata": {},
   "outputs": [],
   "source": []
  }
 ],
 "metadata": {
  "kernelspec": {
   "display_name": "Python 3 (ipykernel)",
   "language": "python",
   "name": "python3"
  },
  "language_info": {
   "codemirror_mode": {
    "name": "ipython",
    "version": 3
   },
   "file_extension": ".py",
   "mimetype": "text/x-python",
   "name": "python",
   "nbconvert_exporter": "python",
   "pygments_lexer": "ipython3",
   "version": "3.12.7"
  }
 },
 "nbformat": 4,
 "nbformat_minor": 5
}
